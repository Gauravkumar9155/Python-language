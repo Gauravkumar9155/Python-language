{
 "cells": [
  {
   "cell_type": "code",
   "execution_count": 17,
   "metadata": {
    "scrolled": false
   },
   "outputs": [
    {
     "data": {
      "image/png": "[encoded data removed]",
      "text/plain": [
       "<Figure size 432x288 with 1 Axes>"
      ]
     },
     "metadata": {
      "needs_background": "light"
     },
     "output_type": "display_data"
    }
   ],
   "source": [
    "import numpy as np\n",
    "import matplotlib.pyplot as plt\n",
    "\n",
    "fig = plt.figure()\n",
    "a2 = fig.add_axes([1,1,2,2])\n",
    "\n",
    "x = np.identity(20)\n",
    "identity_matrix_image = plt.imshow(x, cmap = \"Greys_r\")\n",
    "plt.show()"
   ]
  },
  {
   "cell_type": "code",
   "execution_count": null,
   "metadata": {},
   "outputs": [],
   "source": [
    "# Now plot a random matrix, with a different colormap\n",
    "A = np.random.randn(10, 10)\n",
    "\n",
    "fig = plt.figure()\n",
    "a1 = fig.add_axes([1,1,2,2])\n",
    "\n",
    "random_matrix_image = plt.imshow(A)\n",
    "plt.show()"
   ]
  },
  {
   "cell_type": "code",
   "execution_count": 12,
   "metadata": {},
   "outputs": [
    {
     "data": {
      "image/png": "[encoded data removed]",
      "text/plain": [
       "<Figure size 432x288 with 1 Axes>"
      ]
     },
     "metadata": {
      "needs_background": "light"
     },
     "output_type": "display_data"
    }
   ],
   "source": [
    "import numpy as np\n",
    "import matplotlib.pyplot as plt\n",
    "\n",
    "# We'll start with a parabola\n",
    "# Compute the parabola's x and y coordinates\n",
    "x = np.arange(-5, 5, 0.1)\n",
    "y = np.square(x)\n",
    "\n",
    "# Use matplotlib for the plot\n",
    "plt.plot(x, y, 'b*') # specify the color blue for the line\n",
    "plt.xlabel('X-Axis Values')\n",
    "plt.ylabel('Y-Axis Values')\n",
    "plt.title('First Plot: A Parabola')\n",
    "plt.show() # required to actually display the plot"
   ]
  },
  {
   "cell_type": "code",
   "execution_count": 2,
   "metadata": {},
   "outputs": [
    {
     "name": "stdout",
     "output_type": "stream",
     "text": [
      "45\n",
      "True\n"
     ]
    }
   ],
   "source": [
    "sum = 0\n",
    "for i in range(10):\n",
    "    sum = sum + i\n",
    "print(sum)\n",
    "alternative_sum = 0+1+2+3+4+5+6+7+8+9\n",
    "print(alternative_sum==sum)"
   ]
  },
  {
   "cell_type": "code",
   "execution_count": 3,
   "metadata": {},
   "outputs": [
    {
     "name": "stdout",
     "output_type": "stream",
     "text": [
      "flour\n",
      "sugar\n",
      "eggs\n",
      "oil\n",
      "baking soda\n"
     ]
    }
   ],
   "source": [
    "ingredients = [\"flour\", \"sugar\", \"eggs\", \"oil\", \"baking soda\"]\n",
    "for ingredient in ingredients:\n",
    "    print(ingredient)"
   ]
  },
  {
   "cell_type": "code",
   "execution_count": 1,
   "metadata": {},
   "outputs": [
    {
     "name": "stdout",
     "output_type": "stream",
     "text": [
      "0 is even\n",
      "1 is odd\n",
      "2 is even\n",
      "3 is odd\n",
      "4 is even\n",
      "5 is odd\n",
      "6 is even\n",
      "7 is odd\n",
      "8 is even\n",
      "9 is odd\n"
     ]
    }
   ],
   "source": [
    "for i in range(10):\n",
    "    if i % 2 == 0: # % -- modulus operator -- returns the remainder after division\n",
    "        print(\"{} is even\".format(i))\n",
    "    else:\n",
    "        print(\"{} is odd\".format(i))"
   ]
  },
  {
   "cell_type": "code",
   "execution_count": 1,
   "metadata": {},
   "outputs": [
    {
     "name": "stdout",
     "output_type": "stream",
     "text": [
      "In the Northern Hemisphere: \n",
      "\n",
      "Month 1 is in Winter\n",
      "Month 2 is in Winter\n",
      "Month 3 is in Spring\n",
      "Month 4 is in Spring\n",
      "Month 5 is in Spring\n",
      "Month 6 is in Summer\n",
      "Month 7 is in Summer\n",
      "Month 8 is in Summer\n",
      "Month 9 is in Fall\n",
      "Month 10 is in Fall\n",
      "Month 11 is in Fall\n",
      "Month 12 is in Winter\n"
     ]
    }
   ],
   "source": [
    "# Example using elif as well\n",
    "# Print the meteorological season for each month (loosely, of course, and in the Northern Hemisphere)\n",
    "print(\"In the Northern Hemisphere: \\n\")\n",
    "month_integer = [1, 2, 3, 4, 5, 6, 7, 8, 9, 10, 11, 12] # i.e., January is 1, February is 2, etc...\n",
    "for month in month_integer:\n",
    "    if month < 3:\n",
    "        print(\"Month {} is in Winter\".format(month))\n",
    "    elif month < 6:\n",
    "        print(\"Month {} is in Spring\".format(month))\n",
    "    elif month < 9:\n",
    "        print(\"Month {} is in Summer\".format(month))\n",
    "    elif month < 12:\n",
    "        print(\"Month {} is in Fall\".format(month))\n",
    "    else: # This will put 12 (i.e., December) into Winter\n",
    "        print(\"Month {} is in Winter\".format(month))"
   ]
  },
  {
   "cell_type": "code",
   "execution_count": 7,
   "metadata": {},
   "outputs": [
    {
     "name": "stdout",
     "output_type": "stream",
     "text": [
      "[3, 5, 7, 9]\n"
     ]
    }
   ],
   "source": [
    "even_list = [2, 4, 6, 8]\n",
    "odd_list = [even+1 for even in even_list]\n",
    "print(odd_list)"
   ]
  },
  {
   "cell_type": "code",
   "execution_count": 8,
   "metadata": {
    "scrolled": true
   },
   "outputs": [
    {
     "name": "stdout",
     "output_type": "stream",
     "text": [
      "Matrix A: \n",
      "\n",
      "[[1 3 5]\n",
      " [2 4 6]]\n",
      "\n",
      "Matrix B: \n",
      "\n",
      "[[1 2 3]\n",
      " [4 5 6]]\n",
      "\n",
      " Matrix E (the transpose of B): \n",
      "\n",
      "[[1 4]\n",
      " [2 5]\n",
      " [3 6]]\n",
      "\n",
      " Matrix F (result of matrix multiplication A x E): \n",
      "\n",
      "[[22 49]\n",
      " [28 64]]\n",
      "\n",
      " Matrix G (result of matrix-vector multiplication A*x): \n",
      "\n",
      "[44 56]\n"
     ]
    }
   ],
   "source": [
    "import numpy as np \n",
    "\n",
    "x = np.array([2, 4, 6]) # create a rank 1 array\n",
    "A = np.array([[1, 3, 5], [2, 4, 6]]) # create a rank 2 array\n",
    "B = np.array([[1, 2, 3], [4, 5, 6]])\n",
    "\n",
    "print(\"Matrix A: \\n\")\n",
    "print(A)\n",
    "\n",
    "print(\"\\nMatrix B: \\n\")\n",
    "print(B)\n",
    "# Arithmetic Examples\n",
    "C = A * 2 # multiplies every elemnt of A by two\n",
    "D = A * B # elementwise multiplication rather than matrix multiplication\n",
    "E = np.transpose(B)\n",
    "F = np.matmul(A, E) # performs matrix multiplication -- could also use np.dot()\n",
    "G = np.matmul(A, x) # performs matrix-vector multiplication -- again could also use np.dot()\n",
    "\n",
    "print(\"\\n Matrix E (the transpose of B): \\n\")\n",
    "print(E)\n",
    "\n",
    "print(\"\\n Matrix F (result of matrix multiplication A x E): \\n\")\n",
    "print(F)\n",
    "\n",
    "print(\"\\n Matrix G (result of matrix-vector multiplication A*x): \\n\")\n",
    "print(G)"
   ]
  },
  {
   "cell_type": "code",
   "execution_count": 9,
   "metadata": {},
   "outputs": [
    {
     "name": "stdout",
     "output_type": "stream",
     "text": [
      "Matrix X: \n",
      "\n",
      "[[ 3  9  4]\n",
      " [10  2  7]\n",
      " [ 5 11  8]]\n",
      "\n",
      " Maximum value in X: \n",
      "\n",
      "11\n",
      "\n",
      " Column-wise max of X: \n",
      "\n",
      "[10 11  8]\n",
      "\n",
      " Indices of column max: \n",
      "\n",
      "[1 2 2]\n",
      "\n",
      " Row-wise max of X: \n",
      "\n",
      "[ 9 10 11]\n"
     ]
    }
   ],
   "source": [
    "# max operation examples\n",
    "\n",
    "X = np.array([[3, 9, 4], [10, 2, 7], [5, 11, 8]])\n",
    "all_max = np.max(X) # gets the maximum value of matrix X\n",
    "column_max = np.max(X, axis=0) # gets the maximum in each column -- returns a rank-1 array [10, 11, 8]\n",
    "row_max = np.max(X, axis=1) # gets the maximum in each row -- returns a rank-1 array [9, 10, 11]\n",
    "\n",
    "# In addition to max, can similarly do min. Numpy also has argmax to return indices of maximal values\n",
    "column_argmax = np.argmax(X, axis=0) # note that the \"index\" here is actually the row the maximum occurs for each column\n",
    "\n",
    "print(\"Matrix X: \\n\")\n",
    "print(X)\n",
    "print(\"\\n Maximum value in X: \\n\")\n",
    "print(all_max)\n",
    "print(\"\\n Column-wise max of X: \\n\")\n",
    "print(column_max)\n",
    "print(\"\\n Indices of column max: \\n\")\n",
    "print(column_argmax)\n",
    "print(\"\\n Row-wise max of X: \\n\")\n",
    "print(row_max)\n"
   ]
  },
  {
   "cell_type": "code",
   "execution_count": 10,
   "metadata": {
    "scrolled": false
   },
   "outputs": [
    {
     "name": "stdout",
     "output_type": "stream",
     "text": [
      "Matrix X: \n",
      "\n",
      "[[ 3  9  4]\n",
      " [10  2  7]\n",
      " [ 5 11  8]]\n",
      "\n",
      " Maximum value in X: \n",
      "\n",
      "11\n",
      "\n",
      " Column-wise max of X: \n",
      "\n",
      "[10 11  8]\n",
      "\n",
      " Indices of column max: \n",
      "\n",
      "[1 2 2]\n",
      "\n",
      " Row-wise max of X: \n",
      "\n",
      "[ 9 10 11]\n"
     ]
    }
   ],
   "source": [
    "# max operation examples\n",
    "\n",
    "X = np.array([[3, 9, 4], [10, 2, 7], [5, 11, 8]])\n",
    "all_max = np.max(X) # gets the maximum value of matrix X\n",
    "column_max = np.max(X, axis=0) # gets the maximum in each column -- returns a rank-1 array [10, 11, 8]\n",
    "row_max = np.max(X, axis=1) # gets the maximum in each row -- returns a rank-1 array [9, 10, 11]\n",
    "\n",
    "# In addition to max, can similarly do min. Numpy also has argmax to return indices of maximal values\n",
    "column_argmax = np.argmax(X, axis=0) # note that the \"index\" here is actually the row the maximum occurs for each column\n",
    "\n",
    "print(\"Matrix X: \\n\")\n",
    "print(X)\n",
    "print(\"\\n Maximum value in X: \\n\")\n",
    "print(all_max)\n",
    "print(\"\\n Column-wise max of X: \\n\")\n",
    "print(column_max)\n",
    "print(\"\\n Indices of column max: \\n\")\n",
    "print(column_argmax)\n",
    "print(\"\\n Row-wise max of X: \\n\")\n",
    "print(row_max)\n"
   ]
  },
  {
   "cell_type": "code",
   "execution_count": 2,
   "metadata": {},
   "outputs": [],
   "source": [
    "import numpy as np"
   ]
  },
  {
   "cell_type": "code",
   "execution_count": 3,
   "metadata": {},
   "outputs": [
    {
     "data": {
      "text/plain": [
       "array([10, 12, 13])"
      ]
     },
     "execution_count": 3,
     "metadata": {},
     "output_type": "execute_result"
    }
   ],
   "source": [
    "n1 = np.array([10,11,12,12,13])\n",
    "n2 = np.array([10,19,12,34,13])\n",
    "np.intersect1d(n1,n2)"
   ]
  },
  {
   "cell_type": "code",
   "execution_count": 4,
   "metadata": {},
   "outputs": [
    {
     "data": {
      "text/plain": [
       "array([11])"
      ]
     },
     "execution_count": 4,
     "metadata": {},
     "output_type": "execute_result"
    }
   ],
   "source": [
    "np.setdiff1d(n1,n2)"
   ]
  },
  {
   "cell_type": "code",
   "execution_count": 5,
   "metadata": {},
   "outputs": [
    {
     "data": {
      "text/plain": [
       "array([19, 34])"
      ]
     },
     "execution_count": 5,
     "metadata": {},
     "output_type": "execute_result"
    }
   ],
   "source": [
    "np.setdiff1d(n2,n1)"
   ]
  },
  {
   "cell_type": "code",
   "execution_count": 12,
   "metadata": {},
   "outputs": [
    {
     "data": {
      "text/plain": [
       "array([10, 11, 12, 12, 13, 10, 19, 12, 34, 13])"
      ]
     },
     "execution_count": 12,
     "metadata": {},
     "output_type": "execute_result"
    }
   ],
   "source": [
    "np.hstack((n1,n2))"
   ]
  },
  {
   "cell_type": "code",
   "execution_count": 4,
   "metadata": {},
   "outputs": [
    {
     "data": {
      "text/plain": [
       "array([20, 30, 24, 46, 26])"
      ]
     },
     "execution_count": 4,
     "metadata": {},
     "output_type": "execute_result"
    }
   ],
   "source": [
    "np.sum([n1,n2],axis=0)"
   ]
  },
  {
   "cell_type": "code",
   "execution_count": 5,
   "metadata": {},
   "outputs": [
    {
     "data": {
      "text/plain": [
       "array([58, 88])"
      ]
     },
     "execution_count": 5,
     "metadata": {},
     "output_type": "execute_result"
    }
   ],
   "source": [
    "np.sum([n1,n2],axis = 1)"
   ]
  },
  {
   "cell_type": "code",
   "execution_count": 9,
   "metadata": {},
   "outputs": [
    {
     "data": {
      "text/plain": [
       "13"
      ]
     },
     "execution_count": 9,
     "metadata": {},
     "output_type": "execute_result"
    }
   ],
   "source": [
    "np.max(n1)"
   ]
  },
  {
   "cell_type": "code",
   "execution_count": 10,
   "metadata": {},
   "outputs": [
    {
     "data": {
      "text/plain": [
       "array([20, 21, 22, 22, 23])"
      ]
     },
     "execution_count": 10,
     "metadata": {},
     "output_type": "execute_result"
    }
   ],
   "source": [
    "n1+10"
   ]
  },
  {
   "cell_type": "code",
   "execution_count": 13,
   "metadata": {},
   "outputs": [
    {
     "data": {
      "text/plain": [
       "3.0"
      ]
     },
     "execution_count": 13,
     "metadata": {},
     "output_type": "execute_result"
    }
   ],
   "source": [
    "import numpy as np\n",
    "a = np.array([1,2,3,4,5])\n",
    "np.min(a)"
   ]
  },
  {
   "cell_type": "code",
   "execution_count": null,
   "metadata": {},
   "outputs": [],
   "source": [
    "np.max(a)"
   ]
  },
  {
   "cell_type": "code",
   "execution_count": 14,
   "metadata": {},
   "outputs": [
    {
     "data": {
      "text/plain": [
       "3.0"
      ]
     },
     "execution_count": 14,
     "metadata": {},
     "output_type": "execute_result"
    }
   ],
   "source": [
    "\n",
    "np.median(a)"
   ]
  },
  {
   "cell_type": "code",
   "execution_count": 16,
   "metadata": {},
   "outputs": [],
   "source": [
    "import numpy as np\n",
    "n1 = np.array([10,20,30,40,50,60])\n",
    "np.save(\"array_1\",n1)"
   ]
  },
  {
   "cell_type": "code",
   "execution_count": 17,
   "metadata": {},
   "outputs": [
    {
     "data": {
      "text/plain": [
       "array([10, 20, 30, 40, 50, 60])"
      ]
     },
     "execution_count": 17,
     "metadata": {},
     "output_type": "execute_result"
    }
   ],
   "source": [
    "np.load(\"array_1.npy\")"
   ]
  },
  {
   "cell_type": "markdown",
   "metadata": {},
   "source": [
    "# pandas"
   ]
  },
  {
   "cell_type": "code",
   "execution_count": 18,
   "metadata": {},
   "outputs": [
    {
     "data": {
      "text/plain": [
       "0    1\n",
       "1    2\n",
       "2    3\n",
       "3    4\n",
       "4    5\n",
       "dtype: int64"
      ]
     },
     "execution_count": 18,
     "metadata": {},
     "output_type": "execute_result"
    }
   ],
   "source": [
    "import pandas as pd\n",
    "s = pd.Series([1,2,3,4,5])\n",
    "s"
   ]
  },
  {
   "cell_type": "code",
   "execution_count": 19,
   "metadata": {},
   "outputs": [
    {
     "data": {
      "text/plain": [
       "pandas.core.series.Series"
      ]
     },
     "execution_count": 19,
     "metadata": {},
     "output_type": "execute_result"
    }
   ],
   "source": [
    "type(s)"
   ]
  },
  {
   "cell_type": "code",
   "execution_count": 20,
   "metadata": {},
   "outputs": [
    {
     "data": {
      "text/plain": [
       "a    1\n",
       "b    2\n",
       "c    3\n",
       "d    4\n",
       "dtype: int64"
      ]
     },
     "execution_count": 20,
     "metadata": {},
     "output_type": "execute_result"
    }
   ],
   "source": [
    "s1 = pd.Series([1,2,3,4],index=['a','b','c','d'])\n",
    "s1"
   ]
  },
  {
   "cell_type": "code",
   "execution_count": 21,
   "metadata": {},
   "outputs": [
    {
     "data": {
      "text/plain": [
       "a    1\n",
       "b    2\n",
       "dtype: int64"
      ]
     },
     "execution_count": 21,
     "metadata": {},
     "output_type": "execute_result"
    }
   ],
   "source": [
    "s2 = pd.Series({'a':1,'b':2})\n",
    "s2"
   ]
  },
  {
   "cell_type": "code",
   "execution_count": 22,
   "metadata": {},
   "outputs": [
    {
     "data": {
      "text/html": [
       "<div>\n",
       "<style scoped>\n",
       "    .dataframe tbody tr th:only-of-type {\n",
       "        vertical-align: middle;\n",
       "    }\n",
       "\n",
       "    .dataframe tbody tr th {\n",
       "        vertical-align: top;\n",
       "    }\n",
       "\n",
       "    .dataframe thead th {\n",
       "        text-align: right;\n",
       "    }\n",
       "</style>\n",
       "<table border=\"1\" class=\"dataframe\">\n",
       "  <thead>\n",
       "    <tr style=\"text-align: right;\">\n",
       "      <th></th>\n",
       "      <th>Name</th>\n",
       "      <th>marks</th>\n",
       "    </tr>\n",
       "  </thead>\n",
       "  <tbody>\n",
       "    <tr>\n",
       "      <th>0</th>\n",
       "      <td>bob</td>\n",
       "      <td>76</td>\n",
       "    </tr>\n",
       "    <tr>\n",
       "      <th>1</th>\n",
       "      <td>sam</td>\n",
       "      <td>45</td>\n",
       "    </tr>\n",
       "    <tr>\n",
       "      <th>2</th>\n",
       "      <td>anne</td>\n",
       "      <td>56</td>\n",
       "    </tr>\n",
       "  </tbody>\n",
       "</table>\n",
       "</div>"
      ],
      "text/plain": [
       "   Name  marks\n",
       "0   bob     76\n",
       "1   sam     45\n",
       "2  anne     56"
      ]
     },
     "execution_count": 22,
     "metadata": {},
     "output_type": "execute_result"
    }
   ],
   "source": [
    "import pandas as pd\n",
    "pd.DataFrame({'Name':['bob','sam','anne'],'marks':[76,45,56]})"
   ]
  },
  {
   "cell_type": "code",
   "execution_count": 23,
   "metadata": {},
   "outputs": [
    {
     "data": {
      "text/plain": [
       "b    20.0\n",
       "c    30.0\n",
       "d     NaN\n",
       "a    10.0\n",
       "dtype: float64"
      ]
     },
     "execution_count": 23,
     "metadata": {},
     "output_type": "execute_result"
    }
   ],
   "source": [
    "import pandas as pd\n",
    "pd.Series({'a':10,'b':20,'c':30},index=['b','c','d','a'])"
   ]
  }
 ],
 "metadata": {
  "kernelspec": {
   "display_name": "Python 3",
   "language": "python",
   "name": "python3"
  },
  "language_info": {
   "codemirror_mode": {
    "name": "ipython",
    "version": 3
   },
   "file_extension": ".py",
   "mimetype": "text/x-python",
   "name": "python",
   "nbconvert_exporter": "python",
   "pygments_lexer": "ipython3",
   "version": "3.8.8"
  }
 },
 "nbformat": 4,
 "nbformat_minor": 4
}
